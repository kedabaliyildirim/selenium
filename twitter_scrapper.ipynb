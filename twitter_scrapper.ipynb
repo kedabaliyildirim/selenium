{
 "cells": [
  {
   "cell_type": "code",
   "execution_count": 5,
   "metadata": {},
   "outputs": [],
   "source": [
    "from selenium import webdriver\n",
    "\n",
    "web_driver = webdriver.Firefox()"
   ]
  },
  {
   "cell_type": "code",
   "execution_count": 6,
   "metadata": {},
   "outputs": [],
   "source": [
    "web_driver.get(\"https://www.x.com\")"
   ]
  },
  {
   "cell_type": "code",
   "execution_count": 10,
   "metadata": {},
   "outputs": [
    {
     "name": "stdout",
     "output_type": "stream",
     "text": [
      "<selenium.webdriver.firefox.webdriver.WebDriver (session=\"ab7e31b5-739f-4ae8-a0ab-e575d7b5393f\")>\n"
     ]
    },
    {
     "name": "stdout",
     "output_type": "stream",
     "text": [
      "\u001b[1;31mType:\u001b[0m           WebDriver\n",
      "\u001b[1;31mString form:\u001b[0m    <selenium.webdriver.firefox.webdriver.WebDriver (session=\"ab7e31b5-739f-4ae8-a0ab-e575d7b5393f\")>\n",
      "\u001b[1;31mFile:\u001b[0m           g:\\program files\\python311\\lib\\site-packages\\selenium\\webdriver\\firefox\\webdriver.py\n",
      "\u001b[1;31mDocstring:\u001b[0m      Controls the GeckoDriver and allows you to drive the browser.\n",
      "\u001b[1;31mInit docstring:\u001b[0m\n",
      "Creates a new instance of the Firefox driver. Starts the service and\n",
      "then creates new instance of Firefox driver.\n",
      "\n",
      ":Args:\n",
      " - options - Instance of ``options.Options``.\n",
      " - service - (Optional) service instance for managing the starting and stopping of the driver.\n",
      " - keep_alive - Whether to configure remote_connection.RemoteConnection to use HTTP keep-alive."
     ]
    }
   ],
   "source": [
    "web_driver.implicitly_wait(1.5)\n",
    "web_driver.minimize_window()\n",
    "title = web_driver.title\n",
    "print(web_driver)\n",
    "?web_driver"
   ]
  },
  {
   "cell_type": "code",
   "execution_count": 19,
   "metadata": {},
   "outputs": [
    {
     "name": "stdout",
     "output_type": "stream",
     "text": [
      "<selenium.webdriver.remote.webelement.WebElement (session=\"ab7e31b5-739f-4ae8-a0ab-e575d7b5393f\", element=\"dce4237e-d7d0-4a0a-8dfb-c8b8548779d0\")>\n"
     ]
    }
   ],
   "source": [
    "from selenium.webdriver.common.by import By\n",
    "text_box = web_driver.find_element(by=By.CLASS_NAME, value=\"css-175oi2r\")\n",
    "print(text_box)"
   ]
  }
 ],
 "metadata": {
  "kernelspec": {
   "display_name": "Python 3",
   "language": "python",
   "name": "python3"
  },
  "language_info": {
   "codemirror_mode": {
    "name": "ipython",
    "version": 3
   },
   "file_extension": ".py",
   "mimetype": "text/x-python",
   "name": "python",
   "nbconvert_exporter": "python",
   "pygments_lexer": "ipython3",
   "version": "3.11.4"
  }
 },
 "nbformat": 4,
 "nbformat_minor": 2
}
